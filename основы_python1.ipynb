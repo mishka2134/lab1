{
 "cells": [
  {
   "cell_type": "markdown",
   "metadata": {
    "id": "M-DGa20PaHnu"
   },
   "source": [
    "# Задача 1\n",
    "Написать функцию на вход которой подается строка, состоящая из латинских букв.\n",
    "Функция должна вернуть количество гласных букв (a, e, i, o, u) в этой строке. Написать тесты для кода"
   ]
  },
  {
   "cell_type": "code",
   "execution_count": 47,
   "metadata": {
    "id": "XvX8X_JJ6PCb"
   },
   "outputs": [
    {
     "name": "stdout",
     "output_type": "stream",
     "text": [
      "7\n"
     ]
    }
   ],
   "source": [
    "def vowels_counter(eng_str):\n",
    "    vowels = ['a', 'e', 'i', 'o', 'u']\n",
    "    vowels_counter = 0\n",
    "    for letter in eng_str:\n",
    "        if letter in vowels:\n",
    "            vowels_counter += 1\n",
    "    print(vowels_counter)\n",
    "vowels_counter('hello my name is mishka')"
   ]
  },
  {
   "cell_type": "markdown",
   "metadata": {
    "id": "t2ClV_Y0bbr6"
   },
   "source": [
    "# Задача 2\n",
    "Написать функцию на вход, которой подается строка. Функция должна вернуть true, если\n",
    "каждый символ в строке встречается только 1 раз, иначе должна вернуть false. Написать тесты для кода"
   ]
  },
  {
   "cell_type": "code",
   "execution_count": 50,
   "metadata": {
    "id": "FppbECao6VIz"
   },
   "outputs": [
    {
     "name": "stdout",
     "output_type": "stream",
     "text": [
      "True\n",
      "{'g': 1, 'h': 1, 'd': 1, 'b': 1, 't': 1, 'n': 1}\n"
     ]
    }
   ],
   "source": [
    "def letters_counter(line):\n",
    "    letters_count_dictionary = {}\n",
    "    for letter in line:\n",
    "        if letter not in letters_count_dictionary:\n",
    "            letters_count_dictionary[letter] = 1\n",
    "        else:\n",
    "            letters_count_dictionary[letter] += 1\n",
    "    for letter in letters_count_dictionary:\n",
    "        if letters_count_dictionary[letter] > 1:\n",
    "            print(False)\n",
    "            break\n",
    "    else:\n",
    "        print(True)\n",
    "    print(letters_count_dictionary)\n",
    "letters_counter('ghdbtn')"
   ]
  },
  {
   "cell_type": "markdown",
   "metadata": {
    "id": "udRiIK1cdt6E"
   },
   "source": [
    "# Задача 3\n",
    "Написать функцию, которая принимает положительное число и возвращает количество\n",
    "бит равных 1 в этом числе. Написать тесты для кода"
   ]
  },
  {
   "cell_type": "code",
   "execution_count": 53,
   "metadata": {
    "id": "6tkfDJRz6dp_"
   },
   "outputs": [
    {
     "name": "stdout",
     "output_type": "stream",
     "text": [
      "4\n",
      "4\n",
      "3\n"
     ]
    }
   ],
   "source": [
    "def bit_counter(positive_number):\n",
    "    binary_number = 0\n",
    "    if positive_number < 1:\n",
    "        raise NameError('не положительное число')\n",
    "    while positive_number >= 1:\n",
    "        binary_number += positive_number % 2\n",
    "        positive_number = positive_number // 2\n",
    "    print(binary_number)\n",
    "bit_counter(30)\n",
    "bit_counter(15)\n",
    "bit_counter(100)"
   ]
  },
  {
   "cell_type": "markdown",
   "metadata": {
    "id": "26dDUz-Ae17N"
   },
   "source": [
    "# Задача 4\n",
    "Написать функцию, которая принимает положительное число. Функция должна вернуть то,\n",
    "сколько раз необходимо перемножать цифры числа или результат перемножения, чтобы\n",
    "получилось число состоящее из одной цифры.\n",
    "Например, для входного числа:\n",
    "· 39 функция должна вернуть 3, так как 3*9=27 => 2*7=14 => 1*4=4\n",
    "· 4 функция должна вернуть 0, так как число уже состоит из одной цифры\n",
    "· 999 функция должна вернуть 4, так как 9*9*9=729 => 7*2*9=126 => 1*2*6=12 =>\n",
    "1*2=2. Написать тесты для кода"
   ]
  },
  {
   "cell_type": "code",
   "execution_count": 55,
   "metadata": {
    "id": "BH1A_Mgi6i4G"
   },
   "outputs": [
    {
     "name": "stdout",
     "output_type": "stream",
     "text": [
      "3\n",
      "4\n",
      "4\n"
     ]
    }
   ],
   "source": [
    "def magic(number):\n",
    "    str_n = str(number)\n",
    "    counter = 0\n",
    "    if isinstance(number, int):\n",
    "        if len(str_n) == 1:\n",
    "            return 0\n",
    "        else:\n",
    "            new_n = 1\n",
    "            for i in str_n:\n",
    "                new_n *= int(i)\n",
    "            counter += 1\n",
    "            return counter + magic(new_n)\n",
    "print(magic(39))\n",
    "print(magic(999))\n",
    "print(magic(177))"
   ]
  },
  {
   "cell_type": "markdown",
   "metadata": {
    "id": "0nS-kIa8g8vd"
   },
   "source": [
    "# Задача 5\n",
    "Написать функцию, которая принимает два целочисленных вектора одинаковой длины и\n",
    "возвращает среднеквадратическое отклонение двух векторов. Написать тесты для кода"
   ]
  },
  {
   "cell_type": "code",
   "execution_count": 58,
   "metadata": {
    "id": "8iphx4LM6xbx"
   },
   "outputs": [
    {
     "name": "stdout",
     "output_type": "stream",
     "text": [
      "3.605551275463989\n",
      "5.507570547286102\n",
      "5.0\n"
     ]
    }
   ],
   "source": [
    "def mse(pred, true):\n",
    "    if len(pred) != len(true):\n",
    "        raise NameError('Разная длина векторов')\n",
    "    else:\n",
    "        vector_diff = [pred[i] - true[i] for i in range(len(pred))]\n",
    "        standard_deviation = 0\n",
    "        for elem in range(len(vector_diff)):\n",
    "            standard_deviation += (vector_diff[elem])**2\n",
    "        standard_deviation = (standard_deviation / len(vector_diff))**0.5\n",
    "        print(standard_deviation)\n",
    "mse([4, 5, 6, 7], [1, 2, 3, 2])\n",
    "mse([10, 5, 2], [1, 2, 3]) \n",
    "mse([6, 6, 6], [1, 1, 1]) "
   ]
  },
  {
   "cell_type": "markdown",
   "metadata": {
    "id": "vpIPKL439zkw"
   },
   "source": [
    "# Задача 6\n",
    "Написать функцию, принимающая целое положительное число. Функция должна вернуть\n",
    "строку вида “(n1**p1)(n2**p2)…(nk**pk)” представляющая разложение числа на простые\n",
    "множители (если pi == 1, то выводить только ni).\n",
    "Например, для числа 86240 функция должна вернуть “(2**5)(5)(7**2)(11)”. Написать тесты для кода"
   ]
  },
  {
   "cell_type": "code",
   "execution_count": 7,
   "metadata": {
    "id": "pFebmcZk94Jw"
   },
   "outputs": [
    {
     "name": "stdout",
     "output_type": "stream",
     "text": [
      "(2**8)\n",
      "\n",
      "(3)(13)(487)\n",
      "(31**2)(163)\n"
     ]
    }
   ],
   "source": [
    "def decomposition(number):\n",
    "    result = []\n",
    "    counter = 0\n",
    "    while number % 2 == 0:\n",
    "        number = number // 2\n",
    "        counter += 1\n",
    "    if counter > 0:\n",
    "        if counter == 1:\n",
    "            result.append(\"(2)\")\n",
    "        else:\n",
    "            result.append(f\"(2**{counter})\")\n",
    "    for element in range(3, int(number**0.5) + 1):\n",
    "        counter = 0\n",
    "        while number % element == 0:\n",
    "            number //= element\n",
    "            counter += 1\n",
    "        if counter > 0:\n",
    "            if counter == 1:\n",
    "                result.append(f\"({element})\")\n",
    "            else:\n",
    "                result.append(f\"({element}**{counter})\")\n",
    "    if number > 2:\n",
    "        result.append(f\"({number})\")\n",
    "\n",
    "    return ''.join(result)\n",
    "\n",
    "print(decomposition(256))\n",
    "print(decomposition(1))\n",
    "print(decomposition(18993))\n",
    "print(decomposition(156643))"
   ]
  },
  {
   "cell_type": "markdown",
   "metadata": {
    "id": "ps2s0BudX7A2"
   },
   "source": [
    "# Задача 7\n",
    "Написать функцию, принимающая целое число n, задающее количество кубиков. Функция\n",
    "должна определить, можно ли из данного кол-ва кубиков построить пирамиду, то есть\n",
    "можно ли представить число n как 1^2+2^2+3^2+…+k^2. Если можно, то функция должна\n",
    "вернуть k, иначе строку “It is impossible”. Написать тесты для кода"
   ]
  },
  {
   "cell_type": "code",
   "execution_count": 69,
   "metadata": {
    "id": "3YPjEXxhX_YT"
   },
   "outputs": [
    {
     "name": "stdout",
     "output_type": "stream",
     "text": [
      "2\n",
      "3\n",
      "It is impossible\n"
     ]
    }
   ],
   "source": [
    "def pyramid(number):\n",
    "    k = 0\n",
    "    subtotal = 0\n",
    "    while subtotal < number:\n",
    "        k += 1\n",
    "        subtotal += k**2\n",
    "        if subtotal == number:\n",
    "            return k\n",
    "    return 'It is impossible'\n",
    "print(pyramid(5))\n",
    "print(pyramid(14))\n",
    "print(pyramid(10))"
   ]
  },
  {
   "cell_type": "markdown",
   "metadata": {
    "id": "KeKgmIdAQMEJ"
   },
   "source": [
    "# Задача 8\n",
    "Функция принимает на вход положительное число и определяет является ли оно сбалансированным, т.е. сумма цифр до средних равна сумме цифр после. Средними в случае нечетного числа цифр считать одну цифру, в случае четного - две средних. Написать тесты для кода"
   ]
  },
  {
   "cell_type": "code",
   "execution_count": 43,
   "metadata": {
    "id": "gMAAqtqlQrZt"
   },
   "outputs": [
    {
     "name": "stdout",
     "output_type": "stream",
     "text": [
      "сбалансированное\n",
      "не сбалансированное\n",
      "сбалансированное\n"
     ]
    }
   ],
   "source": [
    "def balance_number_checker(number):\n",
    "    mid_number_index = []\n",
    "    left_part_sum = 0\n",
    "    right_part_sum = 0\n",
    "    element_index = 0\n",
    "    if len(str(number)) % 2 == 0:\n",
    "        mid_number_index.append(len(str(number)) // 2)\n",
    "        mid_number_index.append((len(str(number)) // 2) - 1)\n",
    "    else:\n",
    "        mid_number_index.append(len(str(number)) // 2)\n",
    "        mid_number_index.append(len(str(number)) // 2)\n",
    "    for element in str(number):\n",
    "        if element_index < mid_number_index[0] and element_index < mid_number_index[1]:\n",
    "            left_part_sum += int(element)\n",
    "            element_index += 1\n",
    "        elif element_index > mid_number_index[0] and element_index > mid_number_index[1]:\n",
    "            right_part_sum += int(element)\n",
    "            element_index += 1\n",
    "        else:\n",
    "            element_index += 1\n",
    "    if left_part_sum == right_part_sum:\n",
    "        print('сбалансированное')\n",
    "    else:\n",
    "        print('не сбалансированное')\n",
    "balance_number_checker(1235321)\n",
    "balance_number_checker(123)\n",
    "balance_number_checker(444)\n",
    "        "
   ]
  },
  {
   "cell_type": "code",
   "execution_count": null,
   "metadata": {},
   "outputs": [],
   "source": []
  }
 ],
 "metadata": {
  "colab": {
   "provenance": []
  },
  "kernelspec": {
   "display_name": "Python 3 (ipykernel)",
   "language": "python",
   "name": "python3"
  },
  "language_info": {
   "codemirror_mode": {
    "name": "ipython",
    "version": 3
   },
   "file_extension": ".py",
   "mimetype": "text/x-python",
   "name": "python",
   "nbconvert_exporter": "python",
   "pygments_lexer": "ipython3",
   "version": "3.11.7"
  }
 },
 "nbformat": 4,
 "nbformat_minor": 4
}
